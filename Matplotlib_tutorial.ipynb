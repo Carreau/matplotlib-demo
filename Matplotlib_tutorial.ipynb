{
 "cells": [
  {
   "cell_type": "code",
   "execution_count": null,
   "metadata": {},
   "outputs": [],
   "source": [
    "#Import the python libraries\n",
    "import matplotlib.pyplot as plt\n",
    "import numpy as np\n",
    "import os\n",
    "from IPython.display import Image\n",
    "import seaborn as sns\n",
    "import matplotlib.font_manager as fm"
   ]
  },
  {
   "cell_type": "code",
   "execution_count": null,
   "metadata": {},
   "outputs": [],
   "source": [
    "data=np.genfromtxt('mull_ex_vs_charges_noIP_ex1st',usecols=(1,2),skip_header=1)\n",
    "X=data[:,0]\n",
    "Y=data[:,1]\n",
    "plt.scatter(X,Y)\n",
    "    "
   ]
  },
  {
   "cell_type": "code",
   "execution_count": null,
   "metadata": {},
   "outputs": [],
   "source": [
    "data=np.genfromtxt('mull_charge_ex_final_CIP_ex1st',usecols=(1,2),skip_header=1)\n",
    "X=data[:,0]\n",
    "Y=data[:,1]\n",
    "plt.scatter(X,Y)"
   ]
  },
  {
   "cell_type": "code",
   "execution_count": null,
   "metadata": {},
   "outputs": [],
   "source": [
    "data=np.genfromtxt('mull_ex_vs_charges_noIP_ex1st',usecols=(1,2),skip_header=1)\n",
    "X=data[:,0]\n",
    "Y=data[:,1]\n",
    "plt.scatter(X,Y,color='red',label=\"No IP\")\n",
    "\n",
    "data=np.genfromtxt('mull_charge_ex_final_CIP_ex1st',usecols=(1,2),skip_header=1)\n",
    "X=data[:,0]\n",
    "Y=data[:,1]\n",
    "plt.scatter(X,Y,color='blue',label=\"CIP at O1\")\n",
    "\n",
    "import sys\n",
    "if sys.platform == 'linux':\n",
    "    fontprop = fm.FontProperties(\"STIXGeneral\",size=12)\n",
    "else:\n",
    "    fontprop = fm.FontProperties(fname='/Library/Fonts/helvetica.ttf',size=12)\n",
    "\n",
    "plt.legend(prop=fontprop)\n",
    "plt.xlabel(\"Charge on O1\",fontproperties=fontprop,fontsize=18)\n",
    "plt.ylabel(\"Excitation Energy (eV)\",fontproperties=fontprop,fontsize=18)\n",
    "plt.xticks(fontsize=11,fontproperties=fontprop)\n",
    "plt.yticks(fontsize=11,fontproperties=fontprop)"
   ]
  },
  {
   "cell_type": "code",
   "execution_count": null,
   "metadata": {},
   "outputs": [],
   "source": [
    "def best_fit(X, Y):\n",
    "\n",
    "    xbar = sum(X)/len(X)\n",
    "    ybar = sum(Y)/len(Y)\n",
    "    n = len(X) # or len(Y)\n",
    "\n",
    "    numer = sum([xi*yi for xi,yi in zip(X, Y)]) - n * xbar * ybar\n",
    "    denum = sum([xi**2 for xi in X]) - n * xbar**2\n",
    "\n",
    "    b = numer / denum\n",
    "    a = ybar - b * xbar\n",
    "\n",
    "    print('best fit line:\\ny = {:.2f} + {:.2f}x'.format(a, b))\n",
    "\n",
    "    return a, b\n",
    "\n",
    "data=np.genfromtxt('mull_ex_vs_charges_noIP_ex1st',usecols=(1,2),skip_header=1)\n",
    "X=data[:,0]\n",
    "Y=data[:,1]\n",
    "plt.scatter(X,Y,color='red',label=\"No IP\")\n",
    "a, b = best_fit(X,Y)\n",
    "yfit = [a+b*xi for xi in X]\n",
    "plt.plot(X,yfit,linestyle='-',linewidth=0.7,color=\"black\")\n",
    "\n",
    "\n",
    "data=np.genfromtxt('mull_charge_ex_final_CIP_ex1st',usecols=(1,2),skip_header=1)\n",
    "X=data[:,0]\n",
    "Y=data[:,1]\n",
    "plt.scatter(X,Y,color='blue',label=\"CIP at O1\")\n",
    "a, b = best_fit(X,Y)\n",
    "yfit = [a+b*xi for xi in X]\n",
    "plt.plot(X,yfit,linestyle='-',linewidth=0.7,color=\"black\")\n",
    "plt.legend(prop=fontprop,frameon=True)\n",
    "plt.ylabel(\"Charge on O1\",fontproperties=fontprop,fontsize=18)\n",
    "plt.xlabel(\"Energy (eV)\",fontproperties=fontprop,fontsize=18)\n",
    "plt.xticks(fontsize=15,fontproperties=fontprop)\n",
    "plt.yticks(fontsize=15,fontproperties=fontprop)\n",
    "plt.savefig(os.getcwd()+'/scatter_plot.png',dpi=300,bbox_inches='tight');"
   ]
  },
  {
   "cell_type": "code",
   "execution_count": null,
   "metadata": {},
   "outputs": [],
   "source": [
    "Image(filename=os.getcwd()+\"/spectra_compare.png\")"
   ]
  },
  {
   "cell_type": "code",
   "execution_count": null,
   "metadata": {},
   "outputs": [],
   "source": [
    "data=np.genfromtxt('mull_ex_vs_charges_noIP_ex1st',usecols=(1,2),skip_header=1)\n",
    "X=data[:,0]\n",
    "Y=data[:,1]\n",
    "sns.kdeplot(X,Y,color=\"red\",n_levels=7,shade=True,shade_lowest=False,label=\"CIP at O1\")\n",
    "\n",
    "data=np.genfromtxt('mull_charge_ex_final_CIP_ex1st',usecols=(1,2),skip_header=1)\n",
    "X=data[:,0]\n",
    "Y=data[:,1]\n",
    "sns.kdeplot(X,Y,color=\"black\",n_levels=7,alpha=0.7,shade=True,shade_lowest=False,label=\"No IP\")\n",
    "plt.legend(prop=fontprop,frameon=True)\n",
    "plt.ylabel(\"Charge on O1\",fontproperties=fontprop,fontsize=18)\n",
    "plt.xlabel(\"Energy (eV)\",fontproperties=fontprop,fontsize=18)\n",
    "plt.xlim(3.0,3.5)\n",
    "plt.ylim(-1.3,-0.5)\n",
    "plt.xticks(fontproperties=fontprop,fontsize=15)\n",
    "plt.yticks(fontproperties=fontprop,fontsize=15)\n",
    "plt.savefig(os.getcwd()+'/kde_plot.png',dpi=300,bbox_inches='tight');"
   ]
  },
  {
   "cell_type": "code",
   "execution_count": null,
   "metadata": {},
   "outputs": [],
   "source": []
  },
  {
   "cell_type": "code",
   "execution_count": null,
   "metadata": {},
   "outputs": [],
   "source": []
  }
 ],
 "metadata": {
  "kernelspec": {
   "display_name": "Python 3",
   "language": "python",
   "name": "python3"
  },
  "language_info": {
   "codemirror_mode": {
    "name": "ipython",
    "version": 3
   },
   "file_extension": ".py",
   "mimetype": "text/x-python",
   "name": "python",
   "nbconvert_exporter": "python",
   "pygments_lexer": "ipython3",
   "version": "3.7.3"
  }
 },
 "nbformat": 4,
 "nbformat_minor": 2
}
